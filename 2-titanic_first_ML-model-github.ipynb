{
 "cells": [
  {
   "cell_type": "code",
   "execution_count": 11,
   "metadata": {},
   "outputs": [],
   "source": [
    "# Import modules\n",
    "import pandas as pd\n",
    "import matplotlib.pyplot as plt\n",
    "import seaborn as sns\n",
    "import re\n",
    "import numpy as np\n",
    "from sklearn import tree\n",
    "from sklearn.model_selection import train_test_split\n",
    "from sklearn.linear_model import LogisticRegression\n",
    "from sklearn.model_selection import GridSearchCV\n",
    "\n",
    "# Figures inline and set visualization style\n",
    "%matplotlib inline\n",
    "sns.set()\n",
    "\n",
    "# Import data\n",
    "df_train = pd.read_csv('data/train.csv')\n",
    "df_test = pd.read_csv('data/test.csv')"
   ]
  },
  {
   "cell_type": "markdown",
   "metadata": {},
   "source": [
    " >* We drop the target 'Survived' from the training dataset and create a new DataFrame `data` \n",
    " >* We store the target variable of the training data"
   ]
  },
  {
   "cell_type": "code",
   "execution_count": 12,
   "metadata": {},
   "outputs": [],
   "source": [
    "'''\n",
    " Notes: Purpose of stroing the target var: If we remove columns from the train test, build a model and the test set wouldn't know what to do with the column. \n",
    "Therefore we save the target variale.\n",
    "'''\n",
    "# Store target variable of training data in a safe place\n",
    "survived_train = df_train.Survived\n",
    "\n",
    "# Concatenate training and test sets\n",
    "data = pd.concat([df_train.drop(['Survived'], axis=1), df_test])"
   ]
  },
  {
   "cell_type": "markdown",
   "metadata": {},
   "source": [
    "> * Check out your new DataFrame `data` using the `info()` method."
   ]
  },
  {
   "cell_type": "code",
   "execution_count": 13,
   "metadata": {},
   "outputs": [
    {
     "name": "stdout",
     "output_type": "stream",
     "text": [
      "<class 'pandas.core.frame.DataFrame'>\n",
      "Int64Index: 1309 entries, 0 to 417\n",
      "Data columns (total 11 columns):\n",
      "PassengerId    1309 non-null int64\n",
      "Pclass         1309 non-null int64\n",
      "Name           1309 non-null object\n",
      "Sex            1309 non-null object\n",
      "Age            1046 non-null float64\n",
      "SibSp          1309 non-null int64\n",
      "Parch          1309 non-null int64\n",
      "Ticket         1309 non-null object\n",
      "Fare           1308 non-null float64\n",
      "Cabin          295 non-null object\n",
      "Embarked       1307 non-null object\n",
      "dtypes: float64(2), int64(4), object(5)\n",
      "memory usage: 122.7+ KB\n"
     ]
    }
   ],
   "source": [
    "data.info()"
   ]
  },
  {
   "cell_type": "markdown",
   "metadata": {},
   "source": [
    "\n",
    " >* We have 2 missing values **Age and Fare columns**\n",
    " >* Impute these missing values, using the median of the of these variables where we know them:"
   ]
  },
  {
   "cell_type": "code",
   "execution_count": 14,
   "metadata": {},
   "outputs": [
    {
     "name": "stdout",
     "output_type": "stream",
     "text": [
      "<class 'pandas.core.frame.DataFrame'>\n",
      "Int64Index: 1309 entries, 0 to 417\n",
      "Data columns (total 11 columns):\n",
      "PassengerId    1309 non-null int64\n",
      "Pclass         1309 non-null int64\n",
      "Name           1309 non-null object\n",
      "Sex            1309 non-null object\n",
      "Age            1309 non-null float64\n",
      "SibSp          1309 non-null int64\n",
      "Parch          1309 non-null int64\n",
      "Ticket         1309 non-null object\n",
      "Fare           1309 non-null float64\n",
      "Cabin          295 non-null object\n",
      "Embarked       1307 non-null object\n",
      "dtypes: float64(2), int64(4), object(5)\n",
      "memory usage: 122.7+ KB\n"
     ]
    }
   ],
   "source": [
    "# Impute missing numerical variables\n",
    "data['Age'] = data.Age.fillna(data.Age.median())\n",
    "data['Fare'] = data.Fare.fillna(data.Age.median())\n",
    "# Check out info of data\n",
    "data.info()"
   ]
  },
  {
   "cell_type": "markdown",
   "metadata": {},
   "source": [
    "* As you want to encode your data with numbers, you'll want to change 'male' and 'female' to numbers. Use the `pandas` function `get_dummies` to do so:"
   ]
  },
  {
   "cell_type": "code",
   "execution_count": 15,
   "metadata": {},
   "outputs": [
    {
     "data": {
      "text/html": [
       "<div>\n",
       "<style scoped>\n",
       "    .dataframe tbody tr th:only-of-type {\n",
       "        vertical-align: middle;\n",
       "    }\n",
       "\n",
       "    .dataframe tbody tr th {\n",
       "        vertical-align: top;\n",
       "    }\n",
       "\n",
       "    .dataframe thead th {\n",
       "        text-align: right;\n",
       "    }\n",
       "</style>\n",
       "<table border=\"1\" class=\"dataframe\">\n",
       "  <thead>\n",
       "    <tr style=\"text-align: right;\">\n",
       "      <th></th>\n",
       "      <th>PassengerId</th>\n",
       "      <th>Pclass</th>\n",
       "      <th>Name</th>\n",
       "      <th>Age</th>\n",
       "      <th>SibSp</th>\n",
       "      <th>Parch</th>\n",
       "      <th>Ticket</th>\n",
       "      <th>Fare</th>\n",
       "      <th>Cabin</th>\n",
       "      <th>Embarked</th>\n",
       "      <th>Sex_male</th>\n",
       "    </tr>\n",
       "  </thead>\n",
       "  <tbody>\n",
       "    <tr>\n",
       "      <th>0</th>\n",
       "      <td>1</td>\n",
       "      <td>3</td>\n",
       "      <td>Braund, Mr. Owen Harris</td>\n",
       "      <td>22.0</td>\n",
       "      <td>1</td>\n",
       "      <td>0</td>\n",
       "      <td>A/5 21171</td>\n",
       "      <td>7.2500</td>\n",
       "      <td>NaN</td>\n",
       "      <td>S</td>\n",
       "      <td>1</td>\n",
       "    </tr>\n",
       "    <tr>\n",
       "      <th>1</th>\n",
       "      <td>2</td>\n",
       "      <td>1</td>\n",
       "      <td>Cumings, Mrs. John Bradley (Florence Briggs Th...</td>\n",
       "      <td>38.0</td>\n",
       "      <td>1</td>\n",
       "      <td>0</td>\n",
       "      <td>PC 17599</td>\n",
       "      <td>71.2833</td>\n",
       "      <td>C85</td>\n",
       "      <td>C</td>\n",
       "      <td>0</td>\n",
       "    </tr>\n",
       "    <tr>\n",
       "      <th>2</th>\n",
       "      <td>3</td>\n",
       "      <td>3</td>\n",
       "      <td>Heikkinen, Miss. Laina</td>\n",
       "      <td>26.0</td>\n",
       "      <td>0</td>\n",
       "      <td>0</td>\n",
       "      <td>STON/O2. 3101282</td>\n",
       "      <td>7.9250</td>\n",
       "      <td>NaN</td>\n",
       "      <td>S</td>\n",
       "      <td>0</td>\n",
       "    </tr>\n",
       "    <tr>\n",
       "      <th>3</th>\n",
       "      <td>4</td>\n",
       "      <td>1</td>\n",
       "      <td>Futrelle, Mrs. Jacques Heath (Lily May Peel)</td>\n",
       "      <td>35.0</td>\n",
       "      <td>1</td>\n",
       "      <td>0</td>\n",
       "      <td>113803</td>\n",
       "      <td>53.1000</td>\n",
       "      <td>C123</td>\n",
       "      <td>S</td>\n",
       "      <td>0</td>\n",
       "    </tr>\n",
       "    <tr>\n",
       "      <th>4</th>\n",
       "      <td>5</td>\n",
       "      <td>3</td>\n",
       "      <td>Allen, Mr. William Henry</td>\n",
       "      <td>35.0</td>\n",
       "      <td>0</td>\n",
       "      <td>0</td>\n",
       "      <td>373450</td>\n",
       "      <td>8.0500</td>\n",
       "      <td>NaN</td>\n",
       "      <td>S</td>\n",
       "      <td>1</td>\n",
       "    </tr>\n",
       "  </tbody>\n",
       "</table>\n",
       "</div>"
      ],
      "text/plain": [
       "   PassengerId  Pclass                                               Name  \\\n",
       "0            1       3                            Braund, Mr. Owen Harris   \n",
       "1            2       1  Cumings, Mrs. John Bradley (Florence Briggs Th...   \n",
       "2            3       3                             Heikkinen, Miss. Laina   \n",
       "3            4       1       Futrelle, Mrs. Jacques Heath (Lily May Peel)   \n",
       "4            5       3                           Allen, Mr. William Henry   \n",
       "\n",
       "    Age  SibSp  Parch            Ticket     Fare Cabin Embarked  Sex_male  \n",
       "0  22.0      1      0         A/5 21171   7.2500   NaN        S         1  \n",
       "1  38.0      1      0          PC 17599  71.2833   C85        C         0  \n",
       "2  26.0      0      0  STON/O2. 3101282   7.9250   NaN        S         0  \n",
       "3  35.0      1      0            113803  53.1000  C123        S         0  \n",
       "4  35.0      0      0            373450   8.0500   NaN        S         1  "
      ]
     },
     "execution_count": 15,
     "metadata": {},
     "output_type": "execute_result"
    }
   ],
   "source": [
    "'''Notes: get_dummies() allows you to create a new column for each of the options in 'Sex'.\n",
    "It creates a new column for female, called 'Sex_female', and then a new column for 'Sex_male', \n",
    "which encodes whether that row was male or female. \n",
    "'''\n",
    "data = pd.get_dummies(data, columns=['Sex'], drop_first=True)\n",
    "data.head()"
   ]
  },
  {
   "cell_type": "code",
   "execution_count": 16,
   "metadata": {},
   "outputs": [
    {
     "data": {
      "text/html": [
       "<div>\n",
       "<style scoped>\n",
       "    .dataframe tbody tr th:only-of-type {\n",
       "        vertical-align: middle;\n",
       "    }\n",
       "\n",
       "    .dataframe tbody tr th {\n",
       "        vertical-align: top;\n",
       "    }\n",
       "\n",
       "    .dataframe thead th {\n",
       "        text-align: right;\n",
       "    }\n",
       "</style>\n",
       "<table border=\"1\" class=\"dataframe\">\n",
       "  <thead>\n",
       "    <tr style=\"text-align: right;\">\n",
       "      <th></th>\n",
       "      <th>Sex_male</th>\n",
       "      <th>Fare</th>\n",
       "      <th>Age</th>\n",
       "      <th>Pclass</th>\n",
       "      <th>SibSp</th>\n",
       "    </tr>\n",
       "  </thead>\n",
       "  <tbody>\n",
       "    <tr>\n",
       "      <th>0</th>\n",
       "      <td>1</td>\n",
       "      <td>7.2500</td>\n",
       "      <td>22.0</td>\n",
       "      <td>3</td>\n",
       "      <td>1</td>\n",
       "    </tr>\n",
       "    <tr>\n",
       "      <th>1</th>\n",
       "      <td>0</td>\n",
       "      <td>71.2833</td>\n",
       "      <td>38.0</td>\n",
       "      <td>1</td>\n",
       "      <td>1</td>\n",
       "    </tr>\n",
       "    <tr>\n",
       "      <th>2</th>\n",
       "      <td>0</td>\n",
       "      <td>7.9250</td>\n",
       "      <td>26.0</td>\n",
       "      <td>3</td>\n",
       "      <td>0</td>\n",
       "    </tr>\n",
       "    <tr>\n",
       "      <th>3</th>\n",
       "      <td>0</td>\n",
       "      <td>53.1000</td>\n",
       "      <td>35.0</td>\n",
       "      <td>1</td>\n",
       "      <td>1</td>\n",
       "    </tr>\n",
       "    <tr>\n",
       "      <th>4</th>\n",
       "      <td>1</td>\n",
       "      <td>8.0500</td>\n",
       "      <td>35.0</td>\n",
       "      <td>3</td>\n",
       "      <td>0</td>\n",
       "    </tr>\n",
       "  </tbody>\n",
       "</table>\n",
       "</div>"
      ],
      "text/plain": [
       "   Sex_male     Fare   Age  Pclass  SibSp\n",
       "0         1   7.2500  22.0       3      1\n",
       "1         0  71.2833  38.0       1      1\n",
       "2         0   7.9250  26.0       3      0\n",
       "3         0  53.1000  35.0       1      1\n",
       "4         1   8.0500  35.0       3      0"
      ]
     },
     "execution_count": 16,
     "metadata": {},
     "output_type": "execute_result"
    }
   ],
   "source": [
    "# Select columns and view head\n",
    "data = data[['Sex_male', 'Fare', 'Age','Pclass', 'SibSp']]\n",
    "data.head()"
   ]
  },
  {
   "cell_type": "code",
   "execution_count": 17,
   "metadata": {},
   "outputs": [
    {
     "name": "stdout",
     "output_type": "stream",
     "text": [
      "<class 'pandas.core.frame.DataFrame'>\n",
      "Int64Index: 1309 entries, 0 to 417\n",
      "Data columns (total 5 columns):\n",
      "Sex_male    1309 non-null uint8\n",
      "Fare        1309 non-null float64\n",
      "Age         1309 non-null float64\n",
      "Pclass      1309 non-null int64\n",
      "SibSp       1309 non-null int64\n",
      "dtypes: float64(2), int64(2), uint8(1)\n",
      "memory usage: 52.4 KB\n"
     ]
    }
   ],
   "source": [
    "data.info()"
   ]
  },
  {
   "cell_type": "markdown",
   "metadata": {},
   "source": [
    "**Recap:**\n",
    "* You've got your data in a form to build first machine learning model."
   ]
  },
  {
   "cell_type": "markdown",
   "metadata": {},
   "source": [
    "##  Decision tree classifier"
   ]
  },
  {
   "cell_type": "markdown",
   "metadata": {},
   "source": [
    "* Before fitting a model to your `data`, split it back into training and test sets:"
   ]
  },
  {
   "cell_type": "code",
   "execution_count": 18,
   "metadata": {},
   "outputs": [],
   "source": [
    "data_train = data.iloc[:891]\n",
    "data_test = data.iloc[891:]"
   ]
  },
  {
   "cell_type": "markdown",
   "metadata": {},
   "source": [
    "* We use `scikit-learn` which requires  data as arrays, not DataFrames so transform them:"
   ]
  },
  {
   "cell_type": "code",
   "execution_count": 19,
   "metadata": {},
   "outputs": [],
   "source": [
    "X = data_train.values\n",
    "test = data_test.values\n",
    "y = survived_train.values"
   ]
  },
  {
   "cell_type": "markdown",
   "metadata": {},
   "source": [
    "* Now you get to build your decision tree classifier! First create such a model with `max_depth=3` and then fit it your data:"
   ]
  },
  {
   "cell_type": "code",
   "execution_count": 20,
   "metadata": {},
   "outputs": [
    {
     "data": {
      "text/plain": [
       "DecisionTreeClassifier(class_weight=None, criterion='gini', max_depth=3,\n",
       "            max_features=None, max_leaf_nodes=None,\n",
       "            min_impurity_decrease=0.0, min_impurity_split=None,\n",
       "            min_samples_leaf=1, min_samples_split=2,\n",
       "            min_weight_fraction_leaf=0.0, presort=False, random_state=None,\n",
       "            splitter='best')"
      ]
     },
     "execution_count": 20,
     "metadata": {},
     "output_type": "execute_result"
    }
   ],
   "source": [
    "# Instantiate model and fit to data\n",
    "clf = tree.DecisionTreeClassifier(max_depth=3)\n",
    "clf.fit(X, y)"
   ]
  },
  {
   "cell_type": "markdown",
   "metadata": {},
   "source": [
    "* Make predictions on your test set, create a new column 'Survived' and store your predictions in it. Save 'PassengerId' and 'Survived' columns of `df_test` to a .csv and submit to Kaggle."
   ]
  },
  {
   "cell_type": "code",
   "execution_count": 21,
   "metadata": {},
   "outputs": [],
   "source": [
    "# Make predictions and store in 'Survived' column of df_test\n",
    "Y_pred = clf.predict(test)\n",
    "df_test['Survived']= Y_pred"
   ]
  },
  {
   "cell_type": "code",
   "execution_count": 22,
   "metadata": {},
   "outputs": [],
   "source": [
    "#Save 'PassengerId' and 'Survived' columns of df_test to a .csv and submit to Kaggle.\n",
    "df_test[['PassengerId', 'Survived']].to_csv('data/predictions/1st_dec_tree.csv', index=False)"
   ]
  },
  {
   "cell_type": "markdown",
   "metadata": {},
   "source": [
    "> The accuracy of our model as reported by Kaggle is **78**"
   ]
  },
  {
   "cell_type": "markdown",
   "metadata": {},
   "source": [
    " We can then fit the model to our training data, make predictions on our test set and see how well our prediction does on the test set. \n",
    "\n",
    "* You'll now do this: split your original training data into training and test sets:"
   ]
  },
  {
   "cell_type": "code",
   "execution_count": 24,
   "metadata": {},
   "outputs": [],
   "source": [
    "X_train, X_test, y_train, y_test = train_test_split(X, y, test_size=0.33, random_state=42, stratify=y) "
   ]
  },
  {
   "cell_type": "markdown",
   "metadata": {},
   "source": [
    "* Iterate over values of `max_depth` ranging from 1 to 9 and plot the accuracy of the models on training and test sets:"
   ]
  },
  {
   "cell_type": "code",
   "execution_count": 25,
   "metadata": {},
   "outputs": [
    {
     "data": {
      "image/png": "iVBORw0KGgoAAAANSUhEUgAAAYUAAAETCAYAAADZHBoWAAAABHNCSVQICAghttps://github.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\n",
      "text/plain": [
       "<matplotlib.figure.Figure at 0x258d3d6ff60>"
      ]
     },
     "metadata": {},
     "output_type": "display_data"
    }
   ],
   "source": [
    "# Setup arrays to store train and test accuracies\n",
    "dep = np.arange(1, 9)\n",
    "train_accuracy = np.empty(len(dep))\n",
    "test_accuracy = np.empty(len(dep))\n",
    "\n",
    "# Loop over different values of k\n",
    "for i, k in enumerate(dep):\n",
    "    # Setup a k-NN Classifier with k neighbors: knn\n",
    "    clf = tree.DecisionTreeClassifier(max_depth=k)\n",
    "\n",
    "    # Fit the classifier to the training data\n",
    "    clf.fit(X_train, y_train)\n",
    "    \n",
    "    #Compute accuracy on the training set\n",
    "    train_accuracy[i] = clf.score(X_train, y_train)\n",
    "\n",
    "    #Compute accuracy on the testing set\n",
    "    test_accuracy[i] = clf.score(X_test, y_test)\n",
    "\n",
    "# Generate plot\n",
    "plt.title('clf: Varying depth of tree')\n",
    "plt.plot(dep, test_accuracy, label = 'Testing Accuracy')\n",
    "plt.plot(dep, train_accuracy, label = 'Training Accuracy')\n",
    "plt.legend()\n",
    "plt.xlabel('Depth of tree')\n",
    "plt.ylabel('Accuracy')\n",
    "plt.show()"
   ]
  },
  {
   "cell_type": "markdown",
   "metadata": {},
   "source": [
    "As you increase the max_depth, you're going to fit better and better to the training data because you'll make decisions that describe the training data\n",
    "The accuracy for the training data will go up and up, but you see that this doesn't happen for the test data: you're overfitting.\n",
    "\n",
    "So that's why you chose max_depth=3. "
   ]
  }
 ],
 "metadata": {
  "kernelspec": {
   "display_name": "Python 3",
   "language": "python",
   "name": "python3"
  },
  "language_info": {
   "codemirror_mode": {
    "name": "ipython",
    "version": 3
   },
   "file_extension": ".py",
   "mimetype": "text/x-python",
   "name": "python",
   "nbconvert_exporter": "python",
   "pygments_lexer": "ipython3",
   "version": "3.6.4rc1"
  }
 },
 "nbformat": 4,
 "nbformat_minor": 2
}
